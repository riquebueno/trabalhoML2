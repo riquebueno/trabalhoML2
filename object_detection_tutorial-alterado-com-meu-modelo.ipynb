{
 "cells": [
  {
   "cell_type": "markdown",
   "metadata": {},
   "source": [
    "# Object Detection Demo\n",
    "Welcome to the object detection inference walkthrough!  This notebook will walk you step by step through the process of using a pre-trained model to detect objects in an image. Make sure to follow the [installation instructions](https://github.com/tensorflow/models/blob/master/research/object_detection/g3doc/installation.md) before you start."
   ]
  },
  {
   "cell_type": "markdown",
   "metadata": {},
   "source": [
    "# Imports"
   ]
  },
  {
   "cell_type": "code",
   "execution_count": 1,
   "metadata": {
    "scrolled": true
   },
   "outputs": [
    {
     "name": "stderr",
     "output_type": "stream",
     "text": [
      "/Users/henriquebueno/anaconda/lib/python3.6/site-packages/h5py/__init__.py:36: FutureWarning: Conversion of the second argument of issubdtype from `float` to `np.floating` is deprecated. In future, it will be treated as `np.float64 == np.dtype(float).type`.\n",
      "  from ._conv import register_converters as _register_converters\n"
     ]
    }
   ],
   "source": [
    "import numpy as np\n",
    "import os\n",
    "import six.moves.urllib as urllib\n",
    "import sys\n",
    "import tarfile\n",
    "import tensorflow as tf\n",
    "import zipfile\n",
    "\n",
    "from collections import defaultdict\n",
    "from io import StringIO\n",
    "from matplotlib import pyplot as plt\n",
    "from PIL import Image\n",
    "\n",
    "# This is needed since the notebook is stored in the object_detection folder.\n",
    "sys.path.append(\"..\")\n",
    "from object_detection.utils import ops as utils_ops\n",
    "\n",
    "if tf.__version__ < '1.4.0':\n",
    "  raise ImportError('Please upgrade your tensorflow installation to v1.4.* or later!')\n"
   ]
  },
  {
   "cell_type": "markdown",
   "metadata": {},
   "source": [
    "## Env setup"
   ]
  },
  {
   "cell_type": "code",
   "execution_count": 2,
   "metadata": {
    "collapsed": true
   },
   "outputs": [],
   "source": [
    "# This is needed to display the images.\n",
    "%matplotlib inline"
   ]
  },
  {
   "cell_type": "markdown",
   "metadata": {},
   "source": [
    "## Object detection imports\n",
    "Here are the imports from the object detection module."
   ]
  },
  {
   "cell_type": "code",
   "execution_count": 3,
   "metadata": {},
   "outputs": [
    {
     "name": "stderr",
     "output_type": "stream",
     "text": [
      "/Users/henriquebueno/DOUTORADO/2018.01/ml/trabalho2/models-master/research/object_detection/utils/visualization_utils.py:25: UserWarning: \n",
      "This call to matplotlib.use() has no effect because the backend has already\n",
      "been chosen; matplotlib.use() must be called *before* pylab, matplotlib.pyplot,\n",
      "or matplotlib.backends is imported for the first time.\n",
      "\n",
      "The backend was *originally* set to 'module://ipykernel.pylab.backend_inline' by the following code:\n",
      "  File \"/Users/henriquebueno/anaconda/lib/python3.6/runpy.py\", line 193, in _run_module_as_main\n",
      "    \"__main__\", mod_spec)\n",
      "  File \"/Users/henriquebueno/anaconda/lib/python3.6/runpy.py\", line 85, in _run_code\n",
      "    exec(code, run_globals)\n",
      "  File \"/Users/henriquebueno/anaconda/lib/python3.6/site-packages/ipykernel_launcher.py\", line 16, in <module>\n",
      "    app.launch_new_instance()\n",
      "  File \"/Users/henriquebueno/anaconda/lib/python3.6/site-packages/traitlets/config/application.py\", line 658, in launch_instance\n",
      "    app.start()\n",
      "  File \"/Users/henriquebueno/anaconda/lib/python3.6/site-packages/ipykernel/kernelapp.py\", line 477, in start\n",
      "    ioloop.IOLoop.instance().start()\n",
      "  File \"/Users/henriquebueno/anaconda/lib/python3.6/site-packages/zmq/eventloop/ioloop.py\", line 177, in start\n",
      "    super(ZMQIOLoop, self).start()\n",
      "  File \"/Users/henriquebueno/anaconda/lib/python3.6/site-packages/tornado/ioloop.py\", line 888, in start\n",
      "    handler_func(fd_obj, events)\n",
      "  File \"/Users/henriquebueno/anaconda/lib/python3.6/site-packages/tornado/stack_context.py\", line 277, in null_wrapper\n",
      "    return fn(*args, **kwargs)\n",
      "  File \"/Users/henriquebueno/anaconda/lib/python3.6/site-packages/zmq/eventloop/zmqstream.py\", line 440, in _handle_events\n",
      "    self._handle_recv()\n",
      "  File \"/Users/henriquebueno/anaconda/lib/python3.6/site-packages/zmq/eventloop/zmqstream.py\", line 472, in _handle_recv\n",
      "    self._run_callback(callback, msg)\n",
      "  File \"/Users/henriquebueno/anaconda/lib/python3.6/site-packages/zmq/eventloop/zmqstream.py\", line 414, in _run_callback\n",
      "    callback(*args, **kwargs)\n",
      "  File \"/Users/henriquebueno/anaconda/lib/python3.6/site-packages/tornado/stack_context.py\", line 277, in null_wrapper\n",
      "    return fn(*args, **kwargs)\n",
      "  File \"/Users/henriquebueno/anaconda/lib/python3.6/site-packages/ipykernel/kernelbase.py\", line 283, in dispatcher\n",
      "    return self.dispatch_shell(stream, msg)\n",
      "  File \"/Users/henriquebueno/anaconda/lib/python3.6/site-packages/ipykernel/kernelbase.py\", line 235, in dispatch_shell\n",
      "    handler(stream, idents, msg)\n",
      "  File \"/Users/henriquebueno/anaconda/lib/python3.6/site-packages/ipykernel/kernelbase.py\", line 399, in execute_request\n",
      "    user_expressions, allow_stdin)\n",
      "  File \"/Users/henriquebueno/anaconda/lib/python3.6/site-packages/ipykernel/ipkernel.py\", line 196, in do_execute\n",
      "    res = shell.run_cell(code, store_history=store_history, silent=silent)\n",
      "  File \"/Users/henriquebueno/anaconda/lib/python3.6/site-packages/ipykernel/zmqshell.py\", line 533, in run_cell\n",
      "    return super(ZMQInteractiveShell, self).run_cell(*args, **kwargs)\n",
      "  File \"/Users/henriquebueno/anaconda/lib/python3.6/site-packages/IPython/core/interactiveshell.py\", line 2717, in run_cell\n",
      "    interactivity=interactivity, compiler=compiler, result=result)\n",
      "  File \"/Users/henriquebueno/anaconda/lib/python3.6/site-packages/IPython/core/interactiveshell.py\", line 2827, in run_ast_nodes\n",
      "    if self.run_code(code, result):\n",
      "  File \"/Users/henriquebueno/anaconda/lib/python3.6/site-packages/IPython/core/interactiveshell.py\", line 2881, in run_code\n",
      "    exec(code_obj, self.user_global_ns, self.user_ns)\n",
      "  File \"<ipython-input-2-5a31747f16e3>\", line 2, in <module>\n",
      "    get_ipython().magic('matplotlib inline')\n",
      "  File \"/Users/henriquebueno/anaconda/lib/python3.6/site-packages/IPython/core/interactiveshell.py\", line 2158, in magic\n",
      "    return self.run_line_magic(magic_name, magic_arg_s)\n",
      "  File \"/Users/henriquebueno/anaconda/lib/python3.6/site-packages/IPython/core/interactiveshell.py\", line 2079, in run_line_magic\n",
      "    result = fn(*args,**kwargs)\n",
      "  File \"<decorator-gen-104>\", line 2, in matplotlib\n",
      "  File \"/Users/henriquebueno/anaconda/lib/python3.6/site-packages/IPython/core/magic.py\", line 188, in <lambda>\n",
      "    call = lambda f, *a, **k: f(*a, **k)\n",
      "  File \"/Users/henriquebueno/anaconda/lib/python3.6/site-packages/IPython/core/magics/pylab.py\", line 100, in matplotlib\n",
      "    gui, backend = self.shell.enable_matplotlib(args.gui)\n",
      "  File \"/Users/henriquebueno/anaconda/lib/python3.6/site-packages/IPython/core/interactiveshell.py\", line 2949, in enable_matplotlib\n",
      "    pt.activate_matplotlib(backend)\n",
      "  File \"/Users/henriquebueno/anaconda/lib/python3.6/site-packages/IPython/core/pylabtools.py\", line 308, in activate_matplotlib\n",
      "    matplotlib.pyplot.switch_backend(backend)\n",
      "  File \"/Users/henriquebueno/anaconda/lib/python3.6/site-packages/matplotlib/pyplot.py\", line 231, in switch_backend\n",
      "    matplotlib.use(newbackend, warn=False, force=True)\n",
      "  File \"/Users/henriquebueno/anaconda/lib/python3.6/site-packages/matplotlib/__init__.py\", line 1410, in use\n",
      "    reload(sys.modules['matplotlib.backends'])\n",
      "  File \"/Users/henriquebueno/anaconda/lib/python3.6/importlib/__init__.py\", line 166, in reload\n",
      "    _bootstrap._exec(spec, module)\n",
      "  File \"/Users/henriquebueno/anaconda/lib/python3.6/site-packages/matplotlib/backends/__init__.py\", line 16, in <module>\n",
      "    line for line in traceback.format_stack()\n",
      "\n",
      "\n",
      "  import matplotlib; matplotlib.use('Agg')  # pylint: disable=multiple-statements\n"
     ]
    }
   ],
   "source": [
    "from utils import label_map_util\n",
    "\n",
    "from utils import visualization_utils as vis_util"
   ]
  },
  {
   "cell_type": "markdown",
   "metadata": {},
   "source": [
    "# Model preparation "
   ]
  },
  {
   "cell_type": "markdown",
   "metadata": {},
   "source": [
    "## Variables\n",
    "\n",
    "Any model exported using the `export_inference_graph.py` tool can be loaded here simply by changing `PATH_TO_CKPT` to point to a new .pb file.  \n",
    "\n",
    "By default we use an \"SSD with Mobilenet\" model here. See the [detection model zoo](https://github.com/tensorflow/models/blob/master/research/object_detection/g3doc/detection_model_zoo.md) for a list of other models that can be run out-of-the-box with varying speeds and accuracies."
   ]
  },
  {
   "cell_type": "code",
   "execution_count": 4,
   "metadata": {
    "collapsed": true
   },
   "outputs": [],
   "source": [
    "#alteraçoes henrique aqui\n",
    "\n",
    "# What model to download.\n",
    "#MODEL_NAME = 'ssd_mobilenet_v1_coco_2017_11_17'\n",
    "MODEL_NAME = 'celular_inference_graph'\n",
    "\n",
    "MODEL_FILE = MODEL_NAME + '.tar.gz'\n",
    "DOWNLOAD_BASE = 'http://download.tensorflow.org/models/object_detection/'\n",
    "\n",
    "# Path to frozen detection graph. This is the actual model that is used for the object detection.\n",
    "PATH_TO_CKPT = MODEL_NAME + '/frozen_inference_graph.pb'\n",
    "\n",
    "# List of the strings that is used to add correct label for each box.\n",
    "#PATH_TO_LABELS = os.path.join('data', 'mscoco_label_map.pbtxt')\n",
    "PATH_TO_LABELS = os.path.join('training', 'object-detection.pbtxt')\n",
    "\n",
    "#NUM_CLASSES = 90\n",
    "NUM_CLASSES = 1"
   ]
  },
  {
   "cell_type": "markdown",
   "metadata": {},
   "source": [
    "## Load a (frozen) Tensorflow model into memory."
   ]
  },
  {
   "cell_type": "code",
   "execution_count": 5,
   "metadata": {},
   "outputs": [],
   "source": [
    "detection_graph = tf.Graph()\n",
    "with detection_graph.as_default():\n",
    "  od_graph_def = tf.GraphDef()\n",
    "  with tf.gfile.GFile(PATH_TO_CKPT, 'rb') as fid:\n",
    "    serialized_graph = fid.read()\n",
    "    od_graph_def.ParseFromString(serialized_graph)\n",
    "    tf.import_graph_def(od_graph_def, name='')"
   ]
  },
  {
   "cell_type": "markdown",
   "metadata": {},
   "source": [
    "## Loading label map\n",
    "Label maps map indices to category names, so that when our convolution network predicts `5`, we know that this corresponds to `airplane`.  Here we use internal utility functions, but anything that returns a dictionary mapping integers to appropriate string labels would be fine"
   ]
  },
  {
   "cell_type": "code",
   "execution_count": 6,
   "metadata": {
    "collapsed": true
   },
   "outputs": [],
   "source": [
    "label_map = label_map_util.load_labelmap(PATH_TO_LABELS)\n",
    "categories = label_map_util.convert_label_map_to_categories(label_map, max_num_classes=NUM_CLASSES, use_display_name=True)\n",
    "#print(categories)\n",
    "category_index = label_map_util.create_category_index(categories)"
   ]
  },
  {
   "cell_type": "markdown",
   "metadata": {},
   "source": [
    "## Helper code"
   ]
  },
  {
   "cell_type": "code",
   "execution_count": 7,
   "metadata": {
    "collapsed": true
   },
   "outputs": [],
   "source": [
    "def load_image_into_numpy_array(image):\n",
    "  (im_width, im_height) = image.size\n",
    "  return np.array(image.getdata()).reshape(\n",
    "      (im_height, im_width, 3)).astype(np.uint8)"
   ]
  },
  {
   "cell_type": "markdown",
   "metadata": {},
   "source": [
    "# Detection"
   ]
  },
  {
   "cell_type": "code",
   "execution_count": 8,
   "metadata": {
    "collapsed": true
   },
   "outputs": [],
   "source": [
    "# For the sake of simplicity we will use only 2 images:\n",
    "# image1.jpg\n",
    "# image2.jpg\n",
    "# If you want to test the code with your images, just add path to the images to the TEST_IMAGE_PATHS.\n",
    "#PATH_TO_TEST_IMAGES_DIR = 'test_images'\n",
    "PATH_TO_TEST_IMAGES_DIR = '/Users/henriquebueno/DOUTORADO/2018.01/ml/trabalho2/find_phone_data'\n",
    "#TEST_IMAGE_PATHS = [ os.path.join(PATH_TO_TEST_IMAGES_DIR, 'image{}.jpg'.format(i)) for i in range(1, 3) ]\n",
    "TEST_IMAGE_PATHS = [ os.path.join(PATH_TO_TEST_IMAGES_DIR, '{}.jpg'.format(i)) for i in [0,1,3,4,5,6,7,8,9,10,11,12,13,14,15,16,17,18,20,22,23,24,25,26,27,29,30,31,32,33,34,35,36,37,38,39,40,41,42,43,44,45,46,47,48,49,50,51,52,53,54,55,57,58,59,60,61,62,63,64,66,67,68,69,70,71,72,73,74,75,76,77,78,79,80,81,82,83,84,85,86,87,88,89,90,91,92,93,94,95,96,97,98,99,100,101,102,103,104,105,106,107,108,109,110,111,112,113,114,115,116,117,118,119,120,121,122,123,124,125,126,127,128,129,130,131,132,133,134] ]\n",
    "#TEST_IMAGE_PATHS = [ os.path.join(PATH_TO_TEST_IMAGES_DIR, '{}.jpg'.format(i)) for i in [0,1] ]\n",
    "\n",
    "# Size, in inches, of the output images.\n",
    "#IMAGE_SIZE = (12, 8)\n",
    "#IMAGE_SIZE = (490, 326)\n",
    "IMAGE_SIZE = (5, 5)"
   ]
  },
  {
   "cell_type": "code",
   "execution_count": 9,
   "metadata": {
    "collapsed": true
   },
   "outputs": [],
   "source": [
    "def run_inference_for_single_image(image, graph):\n",
    "  with graph.as_default():\n",
    "    with tf.Session() as sess:\n",
    "      # Get handles to input and output tensors\n",
    "      ops = tf.get_default_graph().get_operations()\n",
    "      all_tensor_names = {output.name for op in ops for output in op.outputs}\n",
    "      tensor_dict = {}\n",
    "      for key in [\n",
    "          'num_detections', 'detection_boxes', 'detection_scores',\n",
    "          'detection_classes', 'detection_masks'\n",
    "      ]:\n",
    "        tensor_name = key + ':0'\n",
    "        if tensor_name in all_tensor_names:\n",
    "          tensor_dict[key] = tf.get_default_graph().get_tensor_by_name(\n",
    "              tensor_name)\n",
    "      if 'detection_masks' in tensor_dict:\n",
    "        # The following processing is only for single image\n",
    "        detection_boxes = tf.squeeze(tensor_dict['detection_boxes'], [0])\n",
    "        detection_masks = tf.squeeze(tensor_dict['detection_masks'], [0])\n",
    "        # Reframe is required to translate mask from box coordinates to image coordinates and fit the image size.\n",
    "        real_num_detection = tf.cast(tensor_dict['num_detections'][0], tf.int32)\n",
    "        detection_boxes = tf.slice(detection_boxes, [0, 0], [real_num_detection, -1])\n",
    "        detection_masks = tf.slice(detection_masks, [0, 0, 0], [real_num_detection, -1, -1])\n",
    "        detection_masks_reframed = utils_ops.reframe_box_masks_to_image_masks(\n",
    "            detection_masks, detection_boxes, image.shape[0], image.shape[1])\n",
    "        detection_masks_reframed = tf.cast(\n",
    "            tf.greater(detection_masks_reframed, 0.5), tf.uint8)\n",
    "        # Follow the convention by adding back the batch dimension\n",
    "        tensor_dict['detection_masks'] = tf.expand_dims(\n",
    "            detection_masks_reframed, 0)\n",
    "      image_tensor = tf.get_default_graph().get_tensor_by_name('image_tensor:0')\n",
    "\n",
    "      # Run inference\n",
    "      output_dict = sess.run(tensor_dict,\n",
    "                             feed_dict={image_tensor: np.expand_dims(image, 0)})\n",
    "\n",
    "      # all outputs are float32 numpy arrays, so convert types as appropriate\n",
    "      output_dict['num_detections'] = int(output_dict['num_detections'][0])\n",
    "      output_dict['detection_classes'] = output_dict[\n",
    "          'detection_classes'][0].astype(np.uint8)\n",
    "      output_dict['detection_boxes'] = output_dict['detection_boxes'][0]\n",
    "      output_dict['detection_scores'] = output_dict['detection_scores'][0]\n",
    "      if 'detection_masks' in output_dict:\n",
    "        output_dict['detection_masks'] = output_dict['detection_masks'][0]\n",
    "  return output_dict"
   ]
  },
  {
   "cell_type": "code",
   "execution_count": 10,
   "metadata": {
    "collapsed": true
   },
   "outputs": [],
   "source": [
    "import math\n",
    "import numpy as np\n",
    "\n",
    "def temTelefone(detection_boxes1, detection_classes1, detection_scores1, fileName):\n",
    "\n",
    "    xEstimado = -1\n",
    "    yEstimado = -1\n",
    "    \n",
    "    #so estou considerando uma classe entao pegarei o box com maior score\n",
    "    indice = np.argmax(detection_scores1)\n",
    "    box = detection_boxes1[indice]\n",
    "\n",
    "    #im_width=490\n",
    "    #im_height=326\n",
    "    \n",
    "    #print(\"(left, right, top, bottom) = (xmin * im_width, xmax * im_width, ymin * im_height, ymax * im_height)\")\n",
    "    #print(\"box: \" + str(box))\n",
    "    \n",
    "    ymin = box[0]\n",
    "    xmin = box[1]\n",
    "    ymax = box[2]\n",
    "    xmax = box[3]\n",
    "    #print(\"(xmin, xmax, ymin, ymax)\")\n",
    "    #print(xmin, xmax, ymin, ymax)\n",
    "    \n",
    "    xEstimado=(xmax+xmin)/2\n",
    "    yEstimado=(ymax+ymin)/2\n",
    "    #print(\"(xEstimado, yEstimado)\")\n",
    "    #print(xEstimado,yEstimado)\n",
    "    \n",
    "    #left = box[0]\n",
    "    #right = box[1]\n",
    "    #top = box[2]\n",
    "    #bottom = box[3]\n",
    "    \n",
    "    #xmin=left/im_width\n",
    "    #xmax=right/im_width\n",
    "    #ymin=top/im_height\n",
    "    #ymax=bottom/im_height\n",
    "    #print(xmin, xmax, ymin, ymax)\n",
    "    \n",
    "    #for pos in range(len(detection_classes1)):\n",
    "        #print(\"-----------classe: \" + str(detection_classes1[pos]))\n",
    "        #if detection_classes1[pos]==77:#classe cell phone\n",
    "        #if detection_classes1[pos]==1:#classe celular\n",
    "            #print(\"temTelefone - Nome do arquivo: \" + str(fileName) + \"confidence: \"+str(detection_scores1[pos])+ \"classe: \"+str(detection_classes1[pos]))\n",
    "            #coordenadas = detection_boxes1[pos]\n",
    "            #print(\"Posicao do celular encontrado: \" + str(coordenadas))\n",
    "            #ymin = coordenadas[0]\n",
    "            #xmin = coordenadas[1]\n",
    "            #ymax = coordenadas[2]\n",
    "            #xmax = coordenadas[3]\n",
    "            #print(\"Y min: \" + str(ymin))\n",
    "            #print(\"X min: \" + str(xmin))\n",
    "            #print(\"Y max: \" + str(ymax))\n",
    "            #print(\"X max: \" + str(xmax))\n",
    "            #xEstimado=(xmin+xmax)/2\n",
    "            #yEstimado=(ymin+ymax)/2\n",
    "            #xCorreto0=0.8306 \n",
    "            #yCorreto0=0.1350\n",
    "\n",
    "            #TAMBÉM PRECISA ALTERAR A CELULA DETECTION--------------------------\n",
    "\n",
    "            #Nao achou para a 1.jpg\n",
    "            #xCorreto1=0.8714\n",
    "            #yCorreto1=0.1718\n",
    "\n",
    "            #xCorreto3=0.6857\n",
    "            #yCorreto3=0.6933\n",
    "\n",
    "            #print(\"Ponto: \" + str(xEstimado) + \" - \" + str(yEstimado))\n",
    "            #print(\"Score do celular encontrado: \" + str(detection_scores1[pos]))\n",
    "            #dist = math.hypot(xEstimado - xCorreto3, yEstimado - yCorreto3)\n",
    "            #print(\"Distancia: \" + str(dist))\n",
    "            \n",
    "    return xEstimado, yEstimado"
   ]
  },
  {
   "cell_type": "code",
   "execution_count": 11,
   "metadata": {
    "collapsed": true
   },
   "outputs": [],
   "source": [
    "#carrega o arquivo com o nome dos arquivos e as coordenadas dos celulares em cada\n",
    "#arquivo em uma matriz onde cada linha é um registro do arquivo labels.txt e cada\n",
    "#linha tem 3 valores: NOME_ARQUIVO X Y\n",
    "#ATENCAO: os 3 valores de cada linha sao armazenados como string\n",
    "\n",
    "def carregaArquivo(arquivo):\n",
    "\n",
    "    #abre o arquivo\n",
    "    file = open(arquivo, \"r\")\n",
    "\n",
    "    #le todas as linhas\n",
    "    linhas=file.readlines()\n",
    "    \n",
    "    #fecha arquivo\n",
    "    file.close()\n",
    "\n",
    "    return linhas"
   ]
  },
  {
   "cell_type": "code",
   "execution_count": 12,
   "metadata": {},
   "outputs": [],
   "source": [
    "#Funcao que recebe como entrada um array com os registros de entrada e um\n",
    "#string com o NOME_ARQ. O retorno é a posicao do arquivo NOME_ARQ em registros.\n",
    "#Caso ele não encontre o nome, ele retorna -1\n",
    "def localiza_X_e_Y(linhas, nomeArquivo):\n",
    "    indiceLinha = -1\n",
    "    xRetorno = -1\n",
    "    yRetorno = -1\n",
    "    \n",
    "    pos=0\n",
    "    for linha in linhas:\n",
    "        temp = linha.split()\n",
    "        nome=temp[0]\n",
    "        nome = PATH_TO_TEST_IMAGES_DIR+\"/\" + nome\n",
    "        #print(nome)\n",
    "        if(nome==nomeArquivo):\n",
    "            indiceLinha = pos\n",
    "            break\n",
    "        pos+=1\n",
    "        \n",
    "    if(indiceLinha != -1):\n",
    "        linha = linhas[pos]\n",
    "        linhaTokenizada = linha.split()\n",
    "        xRetorno=float(linhaTokenizada[1])\n",
    "        yRetorno=float(linhaTokenizada[2])\n",
    "        \n",
    "    return xRetorno, yRetorno"
   ]
  },
  {
   "cell_type": "code",
   "execution_count": 13,
   "metadata": {},
   "outputs": [],
   "source": [
    "#Apenas um teste\n",
    "\n",
    "#arquivo = \"/Users/henriquebueno/DOUTORADO/2018.01/ml/trabalho2/labels.txt\"\n",
    "#linhas = carregaArquivo(arquivo)\n",
    "#x, y = localiza_X_e_Y(linhas, \"/Users/henriquebueno/DOUTORADO/2018.01/ml/trabalho2/find_phone_data/0.jpg\")\n",
    "#print(x)\n",
    "#print(y)"
   ]
  },
  {
   "cell_type": "code",
   "execution_count": 14,
   "metadata": {
    "collapsed": true
   },
   "outputs": [],
   "source": [
    "import math\n",
    "\n",
    "def distancia(x1,y1,x2,y2):\n",
    "     dist = ((x1 - x2)**2 + (y1-y2)**2)**.5 \n",
    "     return dist"
   ]
  },
  {
   "cell_type": "code",
   "execution_count": 15,
   "metadata": {
    "scrolled": false
   },
   "outputs": [
    {
     "name": "stdout",
     "output_type": "stream",
     "text": [
      "SIM 0.008236238100781145 xEst 0.838634192943573 yEst 0.13318689167499542 xCorr 0.8306 yCorr 0.135/Users/henriquebueno/DOUTORADO/2018.01/ml/trabalho2/find_phone_data/0.jpg\n",
      "SIM 0.0018722405335275982 xEst 0.8732722401618958 yEst 0.17180117964744568 xCorr 0.8714 yCorr 0.1718/Users/henriquebueno/DOUTORADO/2018.01/ml/trabalho2/find_phone_data/1.jpg\n",
      "SIM 0.0019495337930192068 xEst 0.6855655312538147 yEst 0.6913551092147827 xCorr 0.6857 yCorr 0.6933/Users/henriquebueno/DOUTORADO/2018.01/ml/trabalho2/find_phone_data/3.jpg\n",
      "SIM 0.0028911111494561055 xEst 0.6680004596710205 yEst 0.6114324927330017 xCorr 0.6653 yCorr 0.6104/Users/henriquebueno/DOUTORADO/2018.01/ml/trabalho2/find_phone_data/4.jpg\n",
      "SIM 0.007941364859697203 xEst 0.8487153053283691 yEst 0.2194311022758484 xCorr 0.8469 yCorr 0.2117/Users/henriquebueno/DOUTORADO/2018.01/ml/trabalho2/find_phone_data/5.jpg\n",
      "SIM 0.004530791455405773 xEst 0.35268986225128174 yEst 0.7745878100395203 xCorr 0.3531 yCorr 0.7791/Users/henriquebueno/DOUTORADO/2018.01/ml/trabalho2/find_phone_data/6.jpg\n",
      "SIM 0.005193320955122471 xEst 0.11335872113704681 yEst 0.1705525666475296 xCorr 0.1184 yCorr 0.1718/Users/henriquebueno/DOUTORADO/2018.01/ml/trabalho2/find_phone_data/7.jpg\n",
      "SIM 0.003414006446156588 xEst 0.6531779170036316 yEst 0.34942153096199036 xCorr 0.6551 yCorr 0.3466/Users/henriquebueno/DOUTORADO/2018.01/ml/trabalho2/find_phone_data/8.jpg\n",
      "SIM 0.0025976445848785398 xEst 0.36921533942222595 yEst 0.28354522585868835 xCorr 0.3673 yCorr 0.2853/Users/henriquebueno/DOUTORADO/2018.01/ml/trabalho2/find_phone_data/9.jpg\n",
      "SIM 0.008782477893814318 xEst 0.48761793971061707 yEst 0.42787715792655945 xCorr 0.4918 yCorr 0.4356/Users/henriquebueno/DOUTORADO/2018.01/ml/trabalho2/find_phone_data/10.jpg\n",
      "SIM 0.006517480049458408 xEst 0.8126859068870544 yEst 0.6869855523109436 xCorr 0.8143 yCorr 0.6933/Users/henriquebueno/DOUTORADO/2018.01/ml/trabalho2/find_phone_data/11.jpg\n",
      "SIM 0.00659587656727868 xEst 0.18754436075687408 yEst 0.8652327656745911 xCorr 0.1857 yCorr 0.8589/Users/henriquebueno/DOUTORADO/2018.01/ml/trabalho2/find_phone_data/12.jpg\n",
      "SIM 0.003779310794361013 xEst 0.3761550188064575 yEst 0.2745458781719208 xCorr 0.3796 yCorr 0.2761/Users/henriquebueno/DOUTORADO/2018.01/ml/trabalho2/find_phone_data/13.jpg\n",
      "SIM 0.00331778586287402 xEst 0.21596583724021912 yEst 0.3683009147644043 xCorr 0.2163 yCorr 0.365/Users/henriquebueno/DOUTORADO/2018.01/ml/trabalho2/find_phone_data/14.jpg\n",
      "SIM 0.003804293628983983 xEst 0.29431360960006714 yEst 0.8922422528266907 xCorr 0.2959 yCorr 0.8957/Users/henriquebueno/DOUTORADO/2018.01/ml/trabalho2/find_phone_data/15.jpg\n",
      "SIM 0.0018989638588427001 xEst 0.5794990658760071 yEst 0.32630372047424316 xCorr 0.5796 yCorr 0.3282/Users/henriquebueno/DOUTORADO/2018.01/ml/trabalho2/find_phone_data/16.jpg\n",
      "SIM 0.009190865949916185 xEst 0.49576887488365173 yEst 0.5112590193748474 xCorr 0.5 yCorr 0.5031/Users/henriquebueno/DOUTORADO/2018.01/ml/trabalho2/find_phone_data/17.jpg\n",
      "SIM 0.0014326871699099069 xEst 0.6658673286437988 yEst 0.3466067314147949 xCorr 0.6673 yCorr 0.3466/Users/henriquebueno/DOUTORADO/2018.01/ml/trabalho2/find_phone_data/18.jpg\n",
      "SIM 0.0024964446306451333 xEst 0.34525516629219055 yEst 0.7797289490699768 xCorr 0.3449 yCorr 0.7822/Users/henriquebueno/DOUTORADO/2018.01/ml/trabalho2/find_phone_data/20.jpg\n",
      "SIM 0.005687154440175845 xEst 0.20667436718940735 yEst 0.5768394470214844 xCorr 0.202 yCorr 0.5736/Users/henriquebueno/DOUTORADO/2018.01/ml/trabalho2/find_phone_data/22.jpg\n",
      "SIM 0.004570990130588121 xEst 0.41838881373405457 yEst 0.6236658096313477 xCorr 0.4163 yCorr 0.6196/Users/henriquebueno/DOUTORADO/2018.01/ml/trabalho2/find_phone_data/23.jpg\n",
      "SIM 0.0019571718962523572 xEst 0.8200611472129822 yEst 0.3047349452972412 xCorr 0.8184 yCorr 0.3037/Users/henriquebueno/DOUTORADO/2018.01/ml/trabalho2/find_phone_data/24.jpg\n",
      "SIM 0.003621001732808028 xEst 0.5672449469566345 yEst 0.2582205832004547 xCorr 0.5673 yCorr 0.2546/Users/henriquebueno/DOUTORADO/2018.01/ml/trabalho2/find_phone_data/25.jpg\n",
      "SIM 0.006101786353759651 xEst 0.2598651647567749 yEst 0.7354888319969177 xCorr 0.2551 yCorr 0.7393/Users/henriquebueno/DOUTORADO/2018.01/ml/trabalho2/find_phone_data/26.jpg\n",
      "SIM 0.004446499178462103 xEst 0.6253836750984192 yEst 0.31105780601501465 xCorr 0.6245 yCorr 0.3067/Users/henriquebueno/DOUTORADO/2018.01/ml/trabalho2/find_phone_data/27.jpg\n",
      "SIM 0.003855642524294551 xEst 0.2111649066209793 yEst 0.36571410298347473 xCorr 0.2122 yCorr 0.362/Users/henriquebueno/DOUTORADO/2018.01/ml/trabalho2/find_phone_data/29.jpg\n",
      "SIM 0.006203914506738871 xEst 0.15504558384418488 yEst 0.3755926489830017 xCorr 0.149 yCorr 0.3742/Users/henriquebueno/DOUTORADO/2018.01/ml/trabalho2/find_phone_data/30.jpg\n",
      "SIM 0.0023749702646292804 xEst 0.6410893201828003 yEst 0.3236631453037262 xCorr 0.6429 yCorr 0.3252/Users/henriquebueno/DOUTORADO/2018.01/ml/trabalho2/find_phone_data/31.jpg\n",
      "SIM 0.001793103461686627 xEst 0.6394709944725037 yEst 0.1270037293434143 xCorr 0.6408 yCorr 0.1258/Users/henriquebueno/DOUTORADO/2018.01/ml/trabalho2/find_phone_data/32.jpg\n",
      "SIM 0.009595261617558781 xEst 0.11260904371738434 yEst 0.35618653893470764 xCorr 0.1122 yCorr 0.3466/Users/henriquebueno/DOUTORADO/2018.01/ml/trabalho2/find_phone_data/33.jpg\n",
      "SIM 0.004836480555032559 xEst 0.2690674662590027 yEst 0.31406500935554504 xCorr 0.2735 yCorr 0.316/Users/henriquebueno/DOUTORADO/2018.01/ml/trabalho2/find_phone_data/34.jpg\n",
      "SIM 0.0030297143757261457 xEst 0.42681625485420227 yEst 0.6294510364532471 xCorr 0.4286 yCorr 0.6319/Users/henriquebueno/DOUTORADO/2018.01/ml/trabalho2/find_phone_data/35.jpg\n",
      "SIM 0.008328556670703546 xEst 0.845869243144989 yEst 0.7559034824371338 xCorr 0.8388 yCorr 0.7515/Users/henriquebueno/DOUTORADO/2018.01/ml/trabalho2/find_phone_data/36.jpg\n",
      "SIM 0.003235643963612058 xEst 0.8468623161315918 yEst 0.6650289297103882 xCorr 0.849 yCorr 0.6626/Users/henriquebueno/DOUTORADO/2018.01/ml/trabalho2/find_phone_data/37.jpg\n",
      "SIM 0.0028113419771916446 xEst 0.2611202299594879 yEst 0.8065102100372314 xCorr 0.2612 yCorr 0.8037/Users/henriquebueno/DOUTORADO/2018.01/ml/trabalho2/find_phone_data/38.jpg\n",
      "SIM 0.005554055649754787 xEst 0.6150053143501282 yEst 0.33408504724502563 xCorr 0.6102 yCorr 0.3313/Users/henriquebueno/DOUTORADO/2018.01/ml/trabalho2/find_phone_data/39.jpg\n",
      "SIM 0.004063956696916247 xEst 0.691679060459137 yEst 0.6362118721008301 xCorr 0.6878 yCorr 0.635/Users/henriquebueno/DOUTORADO/2018.01/ml/trabalho2/find_phone_data/40.jpg\n",
      "SIM 0.004368433578523559 xEst 0.17971272766590118 yEst 0.7287846207618713 xCorr 0.1837 yCorr 0.727/Users/henriquebueno/DOUTORADO/2018.01/ml/trabalho2/find_phone_data/41.jpg\n",
      "SIM 0.0022448306901750514 xEst 0.7583808302879333 yEst 0.8108099699020386 xCorr 0.7592 yCorr 0.8129/Users/henriquebueno/DOUTORADO/2018.01/ml/trabalho2/find_phone_data/42.jpg\n",
      "SIM 0.0024672876149287415 xEst 0.6681639552116394 yEst 0.3841889202594757 xCorr 0.6673 yCorr 0.3865/Users/henriquebueno/DOUTORADO/2018.01/ml/trabalho2/find_phone_data/43.jpg\n",
      "SIM 0.007884693182155334 xEst 0.12041057646274567 yEst 0.547784686088562 xCorr 0.1204 yCorr 0.5399/Users/henriquebueno/DOUTORADO/2018.01/ml/trabalho2/find_phone_data/44.jpg\n",
      "SIM 0.0011570683562814317 xEst 0.8846092224121094 yEst 0.43908601999282837 xCorr 0.8857 yCorr 0.4387/Users/henriquebueno/DOUTORADO/2018.01/ml/trabalho2/find_phone_data/45.jpg\n",
      "SIM 0.007754744455456225 xEst 0.5278866291046143 yEst 0.46258023381233215 xCorr 0.5224 yCorr 0.4571/Users/henriquebueno/DOUTORADO/2018.01/ml/trabalho2/find_phone_data/46.jpg\n",
      "SIM 0.007699864135475227 xEst 0.1935638189315796 yEst 0.11550551652908325 xCorr 0.1878 yCorr 0.1104/Users/henriquebueno/DOUTORADO/2018.01/ml/trabalho2/find_phone_data/47.jpg\n",
      "SIM 0.0043156802501696226 xEst 0.6011464595794678 yEst 0.10926956683397293 xCorr 0.602 yCorr 0.1135/Users/henriquebueno/DOUTORADO/2018.01/ml/trabalho2/find_phone_data/48.jpg\n",
      "SIM 0.006780483061773729 xEst 0.8717662692070007 yEst 0.6462401747703552 xCorr 0.8653 yCorr 0.6442/Users/henriquebueno/DOUTORADO/2018.01/ml/trabalho2/find_phone_data/49.jpg\n",
      "SIM 0.0025118142072866946 xEst 0.4081503450870514 yEst 0.7816113233566284 xCorr 0.4082 yCorr 0.7791/Users/henriquebueno/DOUTORADO/2018.01/ml/trabalho2/find_phone_data/50.jpg\n",
      "SIM 0.00591060723133575 xEst 0.24234621226787567 yEst 0.6059285998344421 xCorr 0.2388 yCorr 0.6012/Users/henriquebueno/DOUTORADO/2018.01/ml/trabalho2/find_phone_data/51.jpg\n"
     ]
    },
    {
     "name": "stdout",
     "output_type": "stream",
     "text": [
      "SIM 0.004430277886488284 xEst 0.5392243266105652 yEst 0.28467321395874023 xCorr 0.5429 yCorr 0.2822/Users/henriquebueno/DOUTORADO/2018.01/ml/trabalho2/find_phone_data/52.jpg\n",
      "SIM 0.0035996132787553727 xEst 0.33166536688804626 yEst 0.07476396858692169 xCorr 0.3347 yCorr 0.0767/Users/henriquebueno/DOUTORADO/2018.01/ml/trabalho2/find_phone_data/53.jpg\n",
      "SIM 0.0035216975430436004 xEst 0.6869686245918274 yEst 0.7471891045570374 xCorr 0.6837 yCorr 0.7485/Users/henriquebueno/DOUTORADO/2018.01/ml/trabalho2/find_phone_data/54.jpg\n",
      "SIM 0.006727007072667836 xEst 0.3194776773452759 yEst 0.4707753658294678 xCorr 0.3245 yCorr 0.4663/Users/henriquebueno/DOUTORADO/2018.01/ml/trabalho2/find_phone_data/55.jpg\n",
      "SIM 0.005127547265003137 xEst 0.8806588053703308 yEst 0.6217629313468933 xCorr 0.8857 yCorr 0.6227/Users/henriquebueno/DOUTORADO/2018.01/ml/trabalho2/find_phone_data/57.jpg\n",
      "SIM 0.0019609485890356437 xEst 0.8450738787651062 yEst 0.15835322439670563 xCorr 0.8449 yCorr 0.1564/Users/henriquebueno/DOUTORADO/2018.01/ml/trabalho2/find_phone_data/58.jpg\n",
      "SIM 0.006048142102468475 xEst 0.3333835005760193 yEst 0.7173910140991211 xCorr 0.3388 yCorr 0.7147/Users/henriquebueno/DOUTORADO/2018.01/ml/trabalho2/find_phone_data/59.jpg\n",
      "SIM 0.0009171772946539075 xEst 0.1508135348558426 yEst 0.3580019772052765 xCorr 0.151 yCorr 0.3589/Users/henriquebueno/DOUTORADO/2018.01/ml/trabalho2/find_phone_data/60.jpg\n",
      "SIM 0.003833935496620588 xEst 0.3339313864707947 yEst 0.33984389901161194 xCorr 0.3347 yCorr 0.3436/Users/henriquebueno/DOUTORADO/2018.01/ml/trabalho2/find_phone_data/61.jpg\n",
      "SIM 0.015251879081235039 xEst 0.15333110094070435 yEst 0.2606501281261444 xCorr 0.1531 yCorr 0.2454/Users/henriquebueno/DOUTORADO/2018.01/ml/trabalho2/find_phone_data/62.jpg\n",
      "SIM 0.005268309142433387 xEst 0.29549992084503174 yEst 0.8346605896949768 xCorr 0.3 yCorr 0.8374/Users/henriquebueno/DOUTORADO/2018.01/ml/trabalho2/find_phone_data/63.jpg\n",
      "SIM 0.004223635654304608 xEst 0.2691713869571686 yEst 0.8386174440383911 xCorr 0.2694 yCorr 0.8344/Users/henriquebueno/DOUTORADO/2018.01/ml/trabalho2/find_phone_data/64.jpg\n",
      "SIM 0.00813757172048333 xEst 0.8162440061569214 yEst 0.5347626209259033 xCorr 0.8163 yCorr 0.5429/Users/henriquebueno/DOUTORADO/2018.01/ml/trabalho2/find_phone_data/66.jpg\n",
      "SIM 0.006670114956766463 xEst 0.048310287296772 yEst 0.8255676031112671 xCorr 0.0449 yCorr 0.8313/Users/henriquebueno/DOUTORADO/2018.01/ml/trabalho2/find_phone_data/67.jpg\n",
      "SIM 0.004507732181779954 xEst 0.09889092296361923 yEst 0.138372540473938 xCorr 0.0959 yCorr 0.135/Users/henriquebueno/DOUTORADO/2018.01/ml/trabalho2/find_phone_data/68.jpg\n",
      "SIM 0.003985636330228078 xEst 0.23891860246658325 yEst 0.6869162321090698 xCorr 0.2429 yCorr 0.6871/Users/henriquebueno/DOUTORADO/2018.01/ml/trabalho2/find_phone_data/69.jpg\n",
      "SIM 0.00033908707143065475 xEst 0.422262966632843 yEst 0.24571016430854797 xCorr 0.4224 yCorr 0.2454/Users/henriquebueno/DOUTORADO/2018.01/ml/trabalho2/find_phone_data/70.jpg\n",
      "SIM 0.004416251405608606 xEst 0.8466338515281677 yEst 0.7324366569519043 xCorr 0.851 yCorr 0.7331/Users/henriquebueno/DOUTORADO/2018.01/ml/trabalho2/find_phone_data/71.jpg\n",
      "SIM 0.004497096478702209 xEst 0.6826448440551758 yEst 0.36682844161987305 xCorr 0.6837 yCorr 0.3712/Users/henriquebueno/DOUTORADO/2018.01/ml/trabalho2/find_phone_data/72.jpg\n",
      "SIM 0.005482016630221911 xEst 0.4786227345466614 yEst 0.5322943329811096 xCorr 0.4755 yCorr 0.5368/Users/henriquebueno/DOUTORADO/2018.01/ml/trabalho2/find_phone_data/73.jpg\n",
      "SIM 0.0036126347797161475 xEst 0.2566470205783844 yEst 0.21101459860801697 xCorr 0.2531 yCorr 0.2117/Users/henriquebueno/DOUTORADO/2018.01/ml/trabalho2/find_phone_data/74.jpg\n",
      "SIM 0.0038977352673410432 xEst 0.7821425795555115 yEst 0.7483542561531067 xCorr 0.7796 yCorr 0.7454/Users/henriquebueno/DOUTORADO/2018.01/ml/trabalho2/find_phone_data/75.jpg\n",
      "SIM 0.003212621466108251 xEst 0.8150639533996582 yEst 0.7117204666137695 xCorr 0.8143 yCorr 0.7086/Users/henriquebueno/DOUTORADO/2018.01/ml/trabalho2/find_phone_data/76.jpg\n",
      "SIM 0.0031346902509804125 xEst 0.4433944523334503 yEst 0.5078592896461487 xCorr 0.4408 yCorr 0.5061/Users/henriquebueno/DOUTORADO/2018.01/ml/trabalho2/find_phone_data/77.jpg\n",
      "SIM 0.000907920549588146 xEst 0.7545804977416992 yEst 0.4854446053504944 xCorr 0.7551 yCorr 0.4847/Users/henriquebueno/DOUTORADO/2018.01/ml/trabalho2/find_phone_data/78.jpg\n",
      "SIM 0.0037836140400131736 xEst 0.7177175283432007 yEst 0.4525236487388611 xCorr 0.7143 yCorr 0.4509/Users/henriquebueno/DOUTORADO/2018.01/ml/trabalho2/find_phone_data/79.jpg\n",
      "SIM 0.009217310196024064 xEst 0.7736002206802368 yEst 0.2828280031681061 xCorr 0.7673 yCorr 0.2761/Users/henriquebueno/DOUTORADO/2018.01/ml/trabalho2/find_phone_data/80.jpg\n",
      "SIM 0.0048024868467760815 xEst 0.5027065277099609 yEst 0.867144763469696 xCorr 0.498 yCorr 0.8681/Users/henriquebueno/DOUTORADO/2018.01/ml/trabalho2/find_phone_data/81.jpg\n",
      "SIM 0.007501506070113042 xEst 0.6022839546203613 yEst 0.13195794820785522 xCorr 0.598 yCorr 0.1258/Users/henriquebueno/DOUTORADO/2018.01/ml/trabalho2/find_phone_data/82.jpg\n",
      "SIM 0.007586222839782784 xEst 0.5764305591583252 yEst 0.21386933326721191 xCorr 0.5837 yCorr 0.2117/Users/henriquebueno/DOUTORADO/2018.01/ml/trabalho2/find_phone_data/83.jpg\n",
      "SIM 0.006244058061409578 xEst 0.7153237462043762 yEst 0.7171065211296082 xCorr 0.7122 yCorr 0.7117/Users/henriquebueno/DOUTORADO/2018.01/ml/trabalho2/find_phone_data/84.jpg\n",
      "SIM 0.0015679225139173132 xEst 0.18616434931755066 yEst 0.25609758496284485 xCorr 0.1857 yCorr 0.2546/Users/henriquebueno/DOUTORADO/2018.01/ml/trabalho2/find_phone_data/85.jpg\n",
      "SIM 0.007624241060334535 xEst 0.23075152933597565 yEst 0.21437783539295197 xCorr 0.2347 yCorr 0.2209/Users/henriquebueno/DOUTORADO/2018.01/ml/trabalho2/find_phone_data/86.jpg\n",
      "SIM 0.000512615237358507 xEst 0.2918083071708679 yEst 0.2888125479221344 xCorr 0.2918 yCorr 0.2883/Users/henriquebueno/DOUTORADO/2018.01/ml/trabalho2/find_phone_data/87.jpg\n",
      "SIM 0.005971266675076434 xEst 0.32434067130088806 yEst 0.3258036971092224 xCorr 0.3184 yCorr 0.3252/Users/henriquebueno/DOUTORADO/2018.01/ml/trabalho2/find_phone_data/88.jpg\n",
      "SIM 0.003560279982966052 xEst 0.27275437116622925 yEst 0.36529260873794556 xCorr 0.2714 yCorr 0.362/Users/henriquebueno/DOUTORADO/2018.01/ml/trabalho2/find_phone_data/89.jpg\n",
      "SIM 0.006195031214983109 xEst 0.26639899611473083 yEst 0.518429160118103 xCorr 0.2673 yCorr 0.5123/Users/henriquebueno/DOUTORADO/2018.01/ml/trabalho2/find_phone_data/90.jpg\n",
      "SIM 0.003625896419593711 xEst 0.5042760968208313 yEst 0.22027838230133057 xCorr 0.5041 yCorr 0.2239/Users/henriquebueno/DOUTORADO/2018.01/ml/trabalho2/find_phone_data/91.jpg\n",
      "SIM 0.003344497397261701 xEst 0.6395940780639648 yEst 0.7023804783821106 xCorr 0.6408 yCorr 0.7055/Users/henriquebueno/DOUTORADO/2018.01/ml/trabalho2/find_phone_data/92.jpg\n",
      "SIM 0.009890512366665835 xEst 0.815981924533844 yEst 0.2703120708465576 xCorr 0.8061 yCorr 0.2699/Users/henriquebueno/DOUTORADO/2018.01/ml/trabalho2/find_phone_data/93.jpg\n",
      "SIM 0.003947289241982206 xEst 0.337280809879303 yEst 0.4484432339668274 xCorr 0.3388 yCorr 0.4448/Users/henriquebueno/DOUTORADO/2018.01/ml/trabalho2/find_phone_data/94.jpg\n",
      "SIM 0.004785898653746398 xEst 0.2595330476760864 yEst 0.3147035837173462 xCorr 0.2551 yCorr 0.3129/Users/henriquebueno/DOUTORADO/2018.01/ml/trabalho2/find_phone_data/95.jpg\n",
      "SIM 0.0018784856272809443 xEst 0.47170931100845337 yEst 0.8454528450965881 xCorr 0.4714 yCorr 0.8436/Users/henriquebueno/DOUTORADO/2018.01/ml/trabalho2/find_phone_data/96.jpg\n",
      "SIM 0.006425975698353562 xEst 0.7633572816848755 yEst 0.4278627336025238 xCorr 0.7571 yCorr 0.4264/Users/henriquebueno/DOUTORADO/2018.01/ml/trabalho2/find_phone_data/97.jpg\n",
      "SIM 0.00943962190384303 xEst 0.5495963096618652 yEst 0.8127463459968567 xCorr 0.5469 yCorr 0.8037/Users/henriquebueno/DOUTORADO/2018.01/ml/trabalho2/find_phone_data/98.jpg\n",
      "SIM 0.002460528952754886 xEst 0.3695012331008911 yEst 0.5291351079940796 xCorr 0.3714 yCorr 0.5307/Users/henriquebueno/DOUTORADO/2018.01/ml/trabalho2/find_phone_data/99.jpg\n",
      "SIM 1.0553561184536804 xEst 0.06920382380485535 yEst 0.11453025043010712 xCorr 0.8204 yCorr 0.8558/Users/henriquebueno/DOUTORADO/2018.01/ml/trabalho2/find_phone_data/100.jpg\n",
      "SIM 0.0024534663577036094 xEst 0.2024281620979309 yEst 0.6499485373497009 xCorr 0.2 yCorr 0.6503/Users/henriquebueno/DOUTORADO/2018.01/ml/trabalho2/find_phone_data/101.jpg\n"
     ]
    },
    {
     "name": "stdout",
     "output_type": "stream",
     "text": [
      "SIM 0.0030023899890869623 xEst 0.45642244815826416 yEst 0.628495454788208 xCorr 0.4551 yCorr 0.6258/Users/henriquebueno/DOUTORADO/2018.01/ml/trabalho2/find_phone_data/102.jpg\n",
      "SIM 0.0011115037070240832 xEst 0.2479453682899475 yEst 0.7695490121841431 xCorr 0.249 yCorr 0.7699/Users/henriquebueno/DOUTORADO/2018.01/ml/trabalho2/find_phone_data/103.jpg\n",
      "SIM 0.004303049625892469 xEst 0.7354874610900879 yEst 0.257346510887146 xCorr 0.7388 yCorr 0.2546/Users/henriquebueno/DOUTORADO/2018.01/ml/trabalho2/find_phone_data/104.jpg\n",
      "SIM 0.00353831010641789 xEst 0.5798142552375793 yEst 0.8408401608467102 xCorr 0.5776 yCorr 0.8436/Users/henriquebueno/DOUTORADO/2018.01/ml/trabalho2/find_phone_data/105.jpg\n",
      "SIM 0.002526194425145531 xEst 0.6714823842048645 yEst 0.37896984815597534 xCorr 0.6694 yCorr 0.3804/Users/henriquebueno/DOUTORADO/2018.01/ml/trabalho2/find_phone_data/106.jpg\n",
      "SIM 0.0026015909702301024 xEst 0.23082639276981354 yEst 0.474204957485199 xCorr 0.2327 yCorr 0.4724/Users/henriquebueno/DOUTORADO/2018.01/ml/trabalho2/find_phone_data/107.jpg\n",
      "SIM 0.004992873355928016 xEst 0.48178601264953613 yEst 0.49080008268356323 xCorr 0.4857 yCorr 0.4939/Users/henriquebueno/DOUTORADO/2018.01/ml/trabalho2/find_phone_data/108.jpg\n",
      "SIM 0.004321591381262831 xEst 0.8106305599212646 yEst 0.25841715931892395 xCorr 0.8143 yCorr 0.2607/Users/henriquebueno/DOUTORADO/2018.01/ml/trabalho2/find_phone_data/109.jpg\n",
      "SIM 0.00888397173438287 xEst 0.5575476288795471 yEst 0.5854289531707764 xCorr 0.5592 yCorr 0.5767/Users/henriquebueno/DOUTORADO/2018.01/ml/trabalho2/find_phone_data/110.jpg\n",
      "SIM 0.002553071584176173 xEst 0.45860376954078674 yEst 0.7229632139205933 xCorr 0.4571 yCorr 0.7209/Users/henriquebueno/DOUTORADO/2018.01/ml/trabalho2/find_phone_data/111.jpg\n",
      "SIM 0.004219838691510198 xEst 0.433011531829834 yEst 0.8447083234786987 xCorr 0.4327 yCorr 0.8405/Users/henriquebueno/DOUTORADO/2018.01/ml/trabalho2/find_phone_data/112.jpg\n",
      "SIM 0.0032832167667384456 xEst 0.5141178965568542 yEst 0.49754685163497925 xCorr 0.5163 yCorr 0.5/Users/henriquebueno/DOUTORADO/2018.01/ml/trabalho2/find_phone_data/113.jpg\n",
      "SIM 0.006461001460736092 xEst 0.795737087726593 yEst 0.6827551126480103 xCorr 0.8 yCorr 0.6779/Users/henriquebueno/DOUTORADO/2018.01/ml/trabalho2/find_phone_data/114.jpg\n",
      "SIM 0.0032621769557284563 xEst 0.774398922920227 yEst 0.3264838457107544 xCorr 0.7714 yCorr 0.3252/Users/henriquebueno/DOUTORADO/2018.01/ml/trabalho2/find_phone_data/115.jpg\n",
      "SIM 0.0026283645844406905 xEst 0.45353251695632935 yEst 0.7906966805458069 xCorr 0.451 yCorr 0.7914/Users/henriquebueno/DOUTORADO/2018.01/ml/trabalho2/find_phone_data/116.jpg\n",
      "SIM 0.006342788737832772 xEst 0.6432366371154785 yEst 0.2212514877319336 xCorr 0.649 yCorr 0.2239/Users/henriquebueno/DOUTORADO/2018.01/ml/trabalho2/find_phone_data/117.jpg\n",
      "SIM 0.005399346072250176 xEst 0.5305824279785156 yEst 0.48267775774002075 xCorr 0.5286 yCorr 0.4877/Users/henriquebueno/DOUTORADO/2018.01/ml/trabalho2/find_phone_data/118.jpg\n",
      "SIM 0.0033858908524585624 xEst 0.48031964898109436 yEst 0.4507063925266266 xCorr 0.4837 yCorr 0.4509/Users/henriquebueno/DOUTORADO/2018.01/ml/trabalho2/find_phone_data/119.jpg\n",
      "SIM 0.0063861547851612 xEst 0.8400011658668518 yEst 0.7201667428016663 xCorr 0.8367 yCorr 0.7147/Users/henriquebueno/DOUTORADO/2018.01/ml/trabalho2/find_phone_data/120.jpg\n",
      "SIM 0.004308932363264409 xEst 0.22432900965213776 yEst 0.8717705607414246 xCorr 0.2286 yCorr 0.8712/Users/henriquebueno/DOUTORADO/2018.01/ml/trabalho2/find_phone_data/121.jpg\n",
      "SIM 0.003049507522881476 xEst 0.21805280447006226 yEst 0.8117468357086182 xCorr 0.2204 yCorr 0.8098/Users/henriquebueno/DOUTORADO/2018.01/ml/trabalho2/find_phone_data/122.jpg\n",
      "SIM 0.0024982970826170235 xEst 0.4696767032146454 yEst 0.5288912057876587 xCorr 0.4714 yCorr 0.5307/Users/henriquebueno/DOUTORADO/2018.01/ml/trabalho2/find_phone_data/123.jpg\n",
      "SIM 0.0067818472615295685 xEst 0.7699463963508606 yEst 0.17004865407943726 xCorr 0.7633 yCorr 0.1687/Users/henriquebueno/DOUTORADO/2018.01/ml/trabalho2/find_phone_data/124.jpg\n",
      "SIM 0.005453226246593259 xEst 0.8931908011436462 yEst 0.8365772366523743 xCorr 0.8878 yCorr 0.8374/Users/henriquebueno/DOUTORADO/2018.01/ml/trabalho2/find_phone_data/125.jpg\n",
      "SIM 0.0019811901558721002 xEst 0.44974783062934875 yEst 0.2288346290588379 xCorr 0.449 yCorr 0.227/Users/henriquebueno/DOUTORADO/2018.01/ml/trabalho2/find_phone_data/126.jpg\n",
      "SIM 0.005558283128446428 xEst 0.2288346290588379 yEst 0.8937557935714722 xCorr 0.2265 yCorr 0.8988/Users/henriquebueno/DOUTORADO/2018.01/ml/trabalho2/find_phone_data/127.jpg\n",
      "SIM 0.007882371982698392 xEst 0.6942740678787231 yEst 0.28962650895118713 xCorr 0.6939 yCorr 0.2975/Users/henriquebueno/DOUTORADO/2018.01/ml/trabalho2/find_phone_data/128.jpg\n",
      "SIM 0.002182111098211369 xEst 0.1909625083208084 yEst 0.26505333185195923 xCorr 0.1898 yCorr 0.2669/Users/henriquebueno/DOUTORADO/2018.01/ml/trabalho2/find_phone_data/129.jpg\n",
      "SIM 0.002814909457819479 xEst 0.1518058180809021 yEst 0.6439739465713501 xCorr 0.149 yCorr 0.6442/Users/henriquebueno/DOUTORADO/2018.01/ml/trabalho2/find_phone_data/130.jpg\n",
      "SIM 0.0034647992961852987 xEst 0.7868220806121826 yEst 0.6518024802207947 xCorr 0.7837 yCorr 0.6503/Users/henriquebueno/DOUTORADO/2018.01/ml/trabalho2/find_phone_data/131.jpg\n",
      "SIM 0.0036454685580974725 xEst 0.2841871976852417 yEst 0.44528692960739136 xCorr 0.2878 yCorr 0.4448/Users/henriquebueno/DOUTORADO/2018.01/ml/trabalho2/find_phone_data/132.jpg\n",
      "SIM 0.006756991165069795 xEst 0.22855395078659058 yEst 0.20220766961574554 xCorr 0.2347 yCorr 0.1994/Users/henriquebueno/DOUTORADO/2018.01/ml/trabalho2/find_phone_data/133.jpg\n",
      "SIM 0.0011811658153063436 xEst 0.6274265646934509 yEst 0.47313255071640015 xCorr 0.6265 yCorr 0.4724/Users/henriquebueno/DOUTORADO/2018.01/ml/trabalho2/find_phone_data/134.jpg\n",
      "% sim: 1.0 129\n",
      "% nao: 0.0 0\n",
      "% sim com distancia < 0.05: 0.9922480620155039 128\n"
     ]
    }
   ],
   "source": [
    "#predicao\n",
    "\n",
    "arquivo = \"/Users/henriquebueno/DOUTORADO/2018.01/ml/trabalho2/labels.txt\"\n",
    "linhas = carregaArquivo(arquivo)\n",
    "#pos = localizaArquivoEmLinhas(linhas, \"129.jpg\")\n",
    "#print(pos)\n",
    "#linha = linhas[pos]\n",
    "#linhaTokenizada = linha.split()\n",
    "#print(linhaTokenizada)\n",
    "\n",
    "sim = 0\n",
    "nao = 0\n",
    "simComDistancia=0\n",
    "\n",
    "for image_path in TEST_IMAGE_PATHS:\n",
    "  image = Image.open(image_path)\n",
    "  #print(\"abriu \" + str(image.filename))\n",
    "  # the array based representation of the image will be used later in order to prepare the\n",
    "  # result image with boxes and labels on it.\n",
    "  image_np = load_image_into_numpy_array(image)\n",
    "  # Expand dimensions since the model expects images to have shape: [1, None, None, 3]\n",
    "  image_np_expanded = np.expand_dims(image_np, axis=0)\n",
    "  # Actual detection.\n",
    "  output_dict = run_inference_for_single_image(image_np, detection_graph)\n",
    "  #print(\"ja rodou inferencia \" + str(image.filename))\n",
    "  # Visualization of the results of a detection.\n",
    "  #vis_util.visualize_boxes_and_labels_on_image_array(\n",
    "  #    image_np,\n",
    "  #    output_dict['detection_boxes'],\n",
    "  #    output_dict['detection_classes'],\n",
    "  #    output_dict['detection_scores'],\n",
    "  #    category_index,\n",
    "  #    instance_masks=output_dict.get('detection_masks'),\n",
    "  #    use_normalized_coordinates=True,\n",
    "  #    line_thickness=3)\n",
    "  #print(\"vis_util.visualize_boxes_and_labels_on_image_array \" + str(image.filename))\n",
    "  #plt.figure(figsize=IMAGE_SIZE)\n",
    "  #print(\"plt.figure \" + str(image.filename))\n",
    "  #plt.imshow(image_np)\n",
    "  #print(\"plt.imshow \" + str(image.filename))\n",
    "\n",
    "  detection_boxes1 = output_dict['detection_boxes']\n",
    "  detection_classes1 = output_dict['detection_classes']\n",
    "  detection_scores1 = output_dict['detection_scores']\n",
    "   \n",
    "  #print(detection_boxes1)\n",
    "  #coordenadas = detection_boxes1[pos]\n",
    "  #print(\"Posicao do celular encontrado: \" + str(coordenadas))\n",
    "  #ymin = coordenadas[0]\n",
    "  #xmin = coordenadas[1]\n",
    "  #ymax = coordenadas[2]\n",
    "  #xmax = coordenadas[3]\n",
    "  #print(\"Y min: \" + str(ymin))\n",
    "  #print(\"X min: \" + str(xmin))\n",
    "  #print(\"Y max: \" + str(ymax))\n",
    "  #print(\"X max: \" + str(xmax))\n",
    "  #xEstimado=(xmin+xmax)/2\n",
    "  #yEstimado=(ymin+ymax)/2\n",
    "    \n",
    "  #(left, right, top, bottom) = (xmin * im_width, xmax * im_width, ymin * im_height, ymax * im_height)\n",
    "  xEstimado, yEstimado = temTelefone(detection_boxes1, detection_classes1, detection_scores1, image.filename)\n",
    "\n",
    "  if((xEstimado==-1)and(yEstimado==-1)):\n",
    "    #print(\"Não: \" + str(image.filename))\n",
    "    print(\"NAO\")\n",
    "    nao+=1\n",
    "  else:\n",
    "    #pos = localizaArquivoEmLinhas(linhas, image.filename)\n",
    "    #linha = linhas[pos]\n",
    "    #linhaTokenizada = linha.split()\n",
    "    #xCorreto=float(linhaTokenizada[1])\n",
    "    #yCorreto=float(linhaTokenizada[2])\n",
    "    #vai consultar o arquivo do professor com as coordenadas para encontrar as coord\n",
    "    #corretas de image.filename. Atencao: o nome do arquivo tem que estar completo com a pasta\n",
    "    xCorreto, yCorreto = localiza_X_e_Y(linhas, image.filename)\n",
    "    \n",
    "    #dist = math.hypot(xEstimado - xCorreto, yEstimado - yCorreto)    \n",
    "    dist = distancia(xEstimado,yEstimado,xCorreto,yCorreto)\n",
    "    if(dist<0.05):\n",
    "        simComDistancia+=1\n",
    "    \n",
    "    #print(\"Sim: \" + str(image.filename) + \" x, y= \" + str(xEstimado) + \"-\" + str(yEstimado))\n",
    "    print(\"SIM \" + str(dist) + \" xEst \" + str(xEstimado) + \" yEst \" + str(yEstimado) + \" xCorr \" + str(xCorreto) + \" yCorr \" + str(yCorreto) + image_path)\n",
    "    sim+=1\n",
    "    \n",
    "#ainda preciso calcular a distancia do celular encontrado para a coordenada do arquivo do professor\n",
    "    \n",
    "print(\"% sim: \" + str(sim/(sim+nao)) + \" \" + str(sim))\n",
    "print(\"% nao: \" + str(nao/(sim+nao)) + \" \" + str(nao))\n",
    "print(\"% sim com distancia < 0.05: \" + str(simComDistancia/(sim+nao)) + \" \" + str(simComDistancia))\n",
    "\n",
    "  \n",
    "  \n",
    "  \n",
    "\n",
    "  \n",
    "        "
   ]
  },
  {
   "cell_type": "code",
   "execution_count": null,
   "metadata": {
    "collapsed": true
   },
   "outputs": [],
   "source": []
  },
  {
   "cell_type": "code",
   "execution_count": 16,
   "metadata": {},
   "outputs": [
    {
     "name": "stdout",
     "output_type": "stream",
     "text": [
      "acabou\n"
     ]
    }
   ],
   "source": [
    "print(\"acabou\")"
   ]
  }
 ],
 "metadata": {
  "colab": {
   "version": "0.3.2"
  },
  "kernelspec": {
   "display_name": "Python 3",
   "language": "python",
   "name": "python3"
  },
  "language_info": {
   "codemirror_mode": {
    "name": "ipython",
    "version": 3
   },
   "file_extension": ".py",
   "mimetype": "text/x-python",
   "name": "python",
   "nbconvert_exporter": "python",
   "pygments_lexer": "ipython3",
   "version": "3.6.3"
  }
 },
 "nbformat": 4,
 "nbformat_minor": 2
}
