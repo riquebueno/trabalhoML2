{
 "cells": [
  {
   "cell_type": "markdown",
   "metadata": {},
   "source": [
    "# Object Detection Demo\n",
    "Welcome to the object detection inference walkthrough!  This notebook will walk you step by step through the process of using a pre-trained model to detect objects in an image. Make sure to follow the [installation instructions](https://github.com/tensorflow/models/blob/master/research/object_detection/g3doc/installation.md) before you start."
   ]
  },
  {
   "cell_type": "markdown",
   "metadata": {},
   "source": [
    "# Imports"
   ]
  },
  {
   "cell_type": "code",
   "execution_count": null,
   "metadata": {
    "scrolled": true
   },
   "outputs": [],
   "source": [
    "import numpy as np\n",
    "import os\n",
    "import six.moves.urllib as urllib\n",
    "import sys\n",
    "import tarfile\n",
    "import tensorflow as tf\n",
    "import zipfile\n",
    "\n",
    "from collections import defaultdict\n",
    "from io import StringIO\n",
    "from matplotlib import pyplot as plt\n",
    "from PIL import Image\n",
    "\n",
    "# This is needed since the notebook is stored in the object_detection folder.\n",
    "sys.path.append(\"..\")\n",
    "from object_detection.utils import ops as utils_ops\n",
    "\n",
    "if tf.__version__ < '1.4.0':\n",
    "  raise ImportError('Please upgrade your tensorflow installation to v1.4.* or later!')\n"
   ]
  },
  {
   "cell_type": "markdown",
   "metadata": {},
   "source": [
    "## Env setup"
   ]
  },
  {
   "cell_type": "code",
   "execution_count": null,
   "metadata": {
    "collapsed": true
   },
   "outputs": [],
   "source": [
    "# This is needed to display the images.\n",
    "%matplotlib inline"
   ]
  },
  {
   "cell_type": "markdown",
   "metadata": {},
   "source": [
    "## Object detection imports\n",
    "Here are the imports from the object detection module."
   ]
  },
  {
   "cell_type": "code",
   "execution_count": null,
   "metadata": {},
   "outputs": [],
   "source": [
    "from utils import label_map_util\n",
    "\n",
    "from utils import visualization_utils as vis_util"
   ]
  },
  {
   "cell_type": "markdown",
   "metadata": {},
   "source": [
    "# Model preparation "
   ]
  },
  {
   "cell_type": "markdown",
   "metadata": {},
   "source": [
    "## Variables\n",
    "\n",
    "Any model exported using the `export_inference_graph.py` tool can be loaded here simply by changing `PATH_TO_CKPT` to point to a new .pb file.  \n",
    "\n",
    "By default we use an \"SSD with Mobilenet\" model here. See the [detection model zoo](https://github.com/tensorflow/models/blob/master/research/object_detection/g3doc/detection_model_zoo.md) for a list of other models that can be run out-of-the-box with varying speeds and accuracies."
   ]
  },
  {
   "cell_type": "code",
   "execution_count": null,
   "metadata": {
    "collapsed": true
   },
   "outputs": [],
   "source": [
    "#alteraçoes henrique aqui\n",
    "\n",
    "# What model to download.\n",
    "#MODEL_NAME = 'ssd_mobilenet_v1_coco_2017_11_17'\n",
    "MODEL_NAME = 'celular_inference_graph'\n",
    "\n",
    "MODEL_FILE = MODEL_NAME + '.tar.gz'\n",
    "DOWNLOAD_BASE = 'http://download.tensorflow.org/models/object_detection/'\n",
    "\n",
    "# Path to frozen detection graph. This is the actual model that is used for the object detection.\n",
    "PATH_TO_CKPT = MODEL_NAME + '/frozen_inference_graph.pb'\n",
    "\n",
    "# List of the strings that is used to add correct label for each box.\n",
    "#PATH_TO_LABELS = os.path.join('data', 'mscoco_label_map.pbtxt')\n",
    "PATH_TO_LABELS = os.path.join('training', 'object-detection.pbtxt')\n",
    "\n",
    "#NUM_CLASSES = 90\n",
    "NUM_CLASSES = 1"
   ]
  },
  {
   "cell_type": "markdown",
   "metadata": {},
   "source": [
    "## Load a (frozen) Tensorflow model into memory."
   ]
  },
  {
   "cell_type": "code",
   "execution_count": null,
   "metadata": {},
   "outputs": [],
   "source": [
    "detection_graph = tf.Graph()\n",
    "with detection_graph.as_default():\n",
    "  od_graph_def = tf.GraphDef()\n",
    "  with tf.gfile.GFile(PATH_TO_CKPT, 'rb') as fid:\n",
    "    serialized_graph = fid.read()\n",
    "    od_graph_def.ParseFromString(serialized_graph)\n",
    "    tf.import_graph_def(od_graph_def, name='')"
   ]
  },
  {
   "cell_type": "markdown",
   "metadata": {},
   "source": [
    "## Loading label map\n",
    "Label maps map indices to category names, so that when our convolution network predicts `5`, we know that this corresponds to `airplane`.  Here we use internal utility functions, but anything that returns a dictionary mapping integers to appropriate string labels would be fine"
   ]
  },
  {
   "cell_type": "code",
   "execution_count": null,
   "metadata": {
    "collapsed": true
   },
   "outputs": [],
   "source": [
    "label_map = label_map_util.load_labelmap(PATH_TO_LABELS)\n",
    "categories = label_map_util.convert_label_map_to_categories(label_map, max_num_classes=NUM_CLASSES, use_display_name=True)\n",
    "#print(categories)\n",
    "category_index = label_map_util.create_category_index(categories)"
   ]
  },
  {
   "cell_type": "markdown",
   "metadata": {},
   "source": [
    "## Helper code"
   ]
  },
  {
   "cell_type": "code",
   "execution_count": null,
   "metadata": {
    "collapsed": true
   },
   "outputs": [],
   "source": [
    "def load_image_into_numpy_array(image):\n",
    "  (im_width, im_height) = image.size\n",
    "  return np.array(image.getdata()).reshape(\n",
    "      (im_height, im_width, 3)).astype(np.uint8)"
   ]
  },
  {
   "cell_type": "markdown",
   "metadata": {},
   "source": [
    "# Detection"
   ]
  },
  {
   "cell_type": "code",
   "execution_count": null,
   "metadata": {
    "collapsed": true
   },
   "outputs": [],
   "source": [
    "# For the sake of simplicity we will use only 2 images:\n",
    "# image1.jpg\n",
    "# image2.jpg\n",
    "# If you want to test the code with your images, just add path to the images to the TEST_IMAGE_PATHS.\n",
    "#PATH_TO_TEST_IMAGES_DIR = 'test_images'\n",
    "PATH_TO_TEST_IMAGES_DIR = '/Users/henriquebueno/DOUTORADO/2018.01/ml/trabalho2/find_phone_data'\n",
    "#TEST_IMAGE_PATHS = [ os.path.join(PATH_TO_TEST_IMAGES_DIR, 'image{}.jpg'.format(i)) for i in range(1, 3) ]\n",
    "TEST_IMAGE_PATHS = [ os.path.join(PATH_TO_TEST_IMAGES_DIR, '{}.jpg'.format(i)) for i in [0,1,3,4,5,6,7,8,9,10,11,12,13,14,15,16,17,18,20,22,23,24,25,26,27,29,30,31,32,33,34,35,36,37,38,39,40,41,42,43,44,45,46,47,48,49,50,51,52,53,54,55,57,58,59,60,61,62,63,64,66,67,68,69,70,71,72,73,74,75,76,77,78,79,80,81,82,83,84,85,86,87,88,89,90,91,92,93,94,95,96,97,98,99,100,101,102,103,104,105,106,107,108,109,110,111,112,113,114,115,116,117,118,119,120,121,122,123,124,125,126,127,128,129,130,131,132,133,134] ]\n",
    "\n",
    "# Size, in inches, of the output images.\n",
    "#IMAGE_SIZE = (12, 8)\n",
    "IMAGE_SIZE = (490, 326)"
   ]
  },
  {
   "cell_type": "code",
   "execution_count": null,
   "metadata": {
    "collapsed": true
   },
   "outputs": [],
   "source": [
    "def run_inference_for_single_image(image, graph):\n",
    "  with graph.as_default():\n",
    "    with tf.Session() as sess:\n",
    "      # Get handles to input and output tensors\n",
    "      ops = tf.get_default_graph().get_operations()\n",
    "      all_tensor_names = {output.name for op in ops for output in op.outputs}\n",
    "      tensor_dict = {}\n",
    "      for key in [\n",
    "          'num_detections', 'detection_boxes', 'detection_scores',\n",
    "          'detection_classes', 'detection_masks'\n",
    "      ]:\n",
    "        tensor_name = key + ':0'\n",
    "        if tensor_name in all_tensor_names:\n",
    "          tensor_dict[key] = tf.get_default_graph().get_tensor_by_name(\n",
    "              tensor_name)\n",
    "      if 'detection_masks' in tensor_dict:\n",
    "        # The following processing is only for single image\n",
    "        detection_boxes = tf.squeeze(tensor_dict['detection_boxes'], [0])\n",
    "        detection_masks = tf.squeeze(tensor_dict['detection_masks'], [0])\n",
    "        # Reframe is required to translate mask from box coordinates to image coordinates and fit the image size.\n",
    "        real_num_detection = tf.cast(tensor_dict['num_detections'][0], tf.int32)\n",
    "        detection_boxes = tf.slice(detection_boxes, [0, 0], [real_num_detection, -1])\n",
    "        detection_masks = tf.slice(detection_masks, [0, 0, 0], [real_num_detection, -1, -1])\n",
    "        detection_masks_reframed = utils_ops.reframe_box_masks_to_image_masks(\n",
    "            detection_masks, detection_boxes, image.shape[0], image.shape[1])\n",
    "        detection_masks_reframed = tf.cast(\n",
    "            tf.greater(detection_masks_reframed, 0.5), tf.uint8)\n",
    "        # Follow the convention by adding back the batch dimension\n",
    "        tensor_dict['detection_masks'] = tf.expand_dims(\n",
    "            detection_masks_reframed, 0)\n",
    "      image_tensor = tf.get_default_graph().get_tensor_by_name('image_tensor:0')\n",
    "\n",
    "      # Run inference\n",
    "      output_dict = sess.run(tensor_dict,\n",
    "                             feed_dict={image_tensor: np.expand_dims(image, 0)})\n",
    "\n",
    "      # all outputs are float32 numpy arrays, so convert types as appropriate\n",
    "      output_dict['num_detections'] = int(output_dict['num_detections'][0])\n",
    "      output_dict['detection_classes'] = output_dict[\n",
    "          'detection_classes'][0].astype(np.uint8)\n",
    "      output_dict['detection_boxes'] = output_dict['detection_boxes'][0]\n",
    "      output_dict['detection_scores'] = output_dict['detection_scores'][0]\n",
    "      if 'detection_masks' in output_dict:\n",
    "        output_dict['detection_masks'] = output_dict['detection_masks'][0]\n",
    "  return output_dict"
   ]
  },
  {
   "cell_type": "code",
   "execution_count": null,
   "metadata": {
    "collapsed": true
   },
   "outputs": [],
   "source": [
    "import math\n",
    "\n",
    "#aaa\n",
    "def temTelefone(detection_boxes1, detection_classes1, detection_scores1, fileName):\n",
    "\n",
    "    xEstimado = -1\n",
    "    yEstimado = -1\n",
    "    for pos in range(len(detection_classes1)):\n",
    "        if detection_classes1[pos]==77:#classe cell phone\n",
    "            #print(\"Nome do arquivo: \" + str(filename))\n",
    "            coordenadas = detection_boxes1[pos]\n",
    "            #print(\"Posicao do celular encontrado: \" + str(coordenadas))\n",
    "            ymin = coordenadas[0]\n",
    "            xmin = coordenadas[1]\n",
    "            ymax = coordenadas[2]\n",
    "            xmax = coordenadas[3]\n",
    "            #print(\"Y min: \" + str(ymin))\n",
    "            #print(\"X min: \" + str(xmin))\n",
    "            #print(\"Y max: \" + str(ymax))\n",
    "            #print(\"X max: \" + str(xmax))\n",
    "            xEstimado=(xmin+xmax)/2\n",
    "            yEstimado=(ymin+ymax)/2\n",
    "            #xCorreto0=0.8306 \n",
    "            #yCorreto0=0.1350\n",
    "\n",
    "            #TAMBÉM PRECISA ALTERAR A CELULA DETECTION--------------------------\n",
    "\n",
    "            #Nao achou para a 1.jpg\n",
    "            #xCorreto1=0.8714\n",
    "            #yCorreto1=0.1718\n",
    "\n",
    "            #xCorreto3=0.6857\n",
    "            #yCorreto3=0.6933\n",
    "\n",
    "            #print(\"Ponto: \" + str(xEstimado) + \" - \" + str(yEstimado))\n",
    "            #print(\"Score do celular encontrado: \" + str(detection_scores1[pos]))\n",
    "            #dist = math.hypot(xEstimado - xCorreto3, yEstimado - yCorreto3)\n",
    "            #print(\"Distancia: \" + str(dist))\n",
    "            \n",
    "    return xEstimado, yEstimado"
   ]
  },
  {
   "cell_type": "code",
   "execution_count": null,
   "metadata": {
    "collapsed": true
   },
   "outputs": [],
   "source": [
    "#carrega o arquivo com o nome dos arquivos e as coordenadas dos celulares em cada\n",
    "#arquivo em uma matriz onde cada linha é um registro do arquivo labels.txt e cada\n",
    "#linha tem 3 valores: NOME_ARQUIVO X Y\n",
    "#ATENCAO: os 3 valores de cada linha sao armazenados como string\n",
    "\n",
    "def carregaArquivo(arquivo):\n",
    "\n",
    "    #abre o arquivo\n",
    "    file = open(arquivo, \"r\")\n",
    "\n",
    "    #le todas as linhas\n",
    "    linhas=file.readlines()\n",
    "    \n",
    "    #fecha arquivo\n",
    "    file.close()\n",
    "\n",
    "    return linhas"
   ]
  },
  {
   "cell_type": "code",
   "execution_count": null,
   "metadata": {
    "collapsed": true
   },
   "outputs": [],
   "source": [
    "#Funcao que recebe como entrada um array com os registros de entrada e um\n",
    "#string com o NOME_ARQ. O retorno é a posicao do arquivo NOME_ARQ em registros.\n",
    "#Caso ele não encontre o nome, ele retorna -1\n",
    "def localizaArquivoEmLinhas(linhas, nomeArquivo):\n",
    "    retorno = -1\n",
    "    \n",
    "    pos=0\n",
    "    for linha in linhas:\n",
    "        temp = linha.split()\n",
    "        nome=temp[0]\n",
    "        if(nome==nomeArquivo):\n",
    "            return pos\n",
    "        pos+=1\n",
    "    \n",
    "    return retorno"
   ]
  },
  {
   "cell_type": "code",
   "execution_count": null,
   "metadata": {
    "scrolled": false
   },
   "outputs": [],
   "source": [
    "#predicao\n",
    "\n",
    "arquivo = \"/Users/henriquebueno/DOUTORADO/2018.01/ml/trabalho2/labels.txt\"\n",
    "linhas = carregaArquivo(arquivo)\n",
    "#pos = localizaArquivoEmLinhas(linhas, \"129.jpg\")\n",
    "#print(pos)\n",
    "#linha = linhas[pos]\n",
    "#linhaTokenizada = linha.split()\n",
    "#print(linhaTokenizada)\n",
    "\n",
    "sim = 0\n",
    "nao = 0\n",
    "simComDistancia=0\n",
    "\n",
    "for image_path in TEST_IMAGE_PATHS:\n",
    "  image = Image.open(image_path)\n",
    "  #print(\"abriu \" + str(image.filename))\n",
    "  # the array based representation of the image will be used later in order to prepare the\n",
    "  # result image with boxes and labels on it.\n",
    "  image_np = load_image_into_numpy_array(image)\n",
    "  # Expand dimensions since the model expects images to have shape: [1, None, None, 3]\n",
    "  image_np_expanded = np.expand_dims(image_np, axis=0)\n",
    "  # Actual detection.\n",
    "  output_dict = run_inference_for_single_image(image_np, detection_graph)\n",
    "  #print(\"ja rodou inferencia \" + str(image.filename))\n",
    "  # Visualization of the results of a detection.\n",
    "  #vis_util.visualize_boxes_and_labels_on_image_array(\n",
    "  #    image_np,\n",
    "  #    output_dict['detection_boxes'],\n",
    "  #    output_dict['detection_classes'],\n",
    "  #    output_dict['detection_scores'],\n",
    "  #    category_index,\n",
    "  #    instance_masks=output_dict.get('detection_masks'),\n",
    "  #    use_normalized_coordinates=True,\n",
    "  #    line_thickness=8)\n",
    "  #print(\"vis_util.visualize_boxes_and_labels_on_image_array \" + str(image.filename))\n",
    "  #plt.figure(figsize=IMAGE_SIZE)\n",
    "  #print(\"plt.figure \" + str(image.filename))\n",
    "  #plt.imshow(image_np)\n",
    "  #print(\"plt.imshow \" + str(image.filename))\n",
    "\n",
    "  detection_boxes1 = output_dict['detection_boxes']\n",
    "  detection_classes1 = output_dict['detection_classes']\n",
    "  detection_scores1 = output_dict['detection_scores']\n",
    "    \n",
    "  xEstimado, yEstimado = temTelefone(detection_boxes1, detection_classes1, detection_scores1, image.filename)\n",
    "\n",
    "  if((xEstimado==-1)and(yEstimado==-1)):\n",
    "    #print(\"Não: \" + str(image.filename))\n",
    "    print(\"NAO\")\n",
    "    nao+=1\n",
    "  else:\n",
    "    pos = localizaArquivoEmLinhas(linhas, image.filename)\n",
    "    linha = linhas[pos]\n",
    "    linhaTokenizada = linha.split()\n",
    "    xCorreto=float(linhaTokenizada[1])\n",
    "    yCorreto=float(linhaTokenizada[2])\n",
    "    \n",
    "    dist = math.hypot(xEstimado - xCorreto, yEstimado - yCorreto)    \n",
    "    if(dist<0.05):\n",
    "        simComDistancia+=1\n",
    "    \n",
    "    #print(\"Sim: \" + str(image.filename) + \" x, y= \" + str(xEstimado) + \"-\" + str(yEstimado))\n",
    "    print(\"SIM \" + str(dist))\n",
    "    sim+=1\n",
    "    \n",
    "#ainda preciso calcular a distancia do celular encontrado para a coordenada do arquivo do professor\n",
    "    \n",
    "print(\"% sim: \" + str(sim/(sim+nao)))\n",
    "print(\"% nao: \" + str(nao/(sim+nao)))\n",
    "print(\"% sim com distancia < 0.05: \" + str(simComDistancia/(sim+nao)))\n",
    "\n",
    "  \n",
    "  \n",
    "  \n",
    "\n",
    "  \n",
    "        "
   ]
  },
  {
   "cell_type": "code",
   "execution_count": null,
   "metadata": {
    "collapsed": true
   },
   "outputs": [],
   "source": []
  },
  {
   "cell_type": "code",
   "execution_count": null,
   "metadata": {},
   "outputs": [],
   "source": [
    "print(\"acabou\")"
   ]
  }
 ],
 "metadata": {
  "colab": {
   "version": "0.3.2"
  },
  "kernelspec": {
   "display_name": "Python 3",
   "language": "python",
   "name": "python3"
  },
  "language_info": {
   "codemirror_mode": {
    "name": "ipython",
    "version": 3
   },
   "file_extension": ".py",
   "mimetype": "text/x-python",
   "name": "python",
   "nbconvert_exporter": "python",
   "pygments_lexer": "ipython3",
   "version": "3.6.3"
  }
 },
 "nbformat": 4,
 "nbformat_minor": 2
}
